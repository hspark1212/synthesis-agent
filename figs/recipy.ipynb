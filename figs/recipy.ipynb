{
 "cells": [
  {
   "cell_type": "markdown",
   "id": "0484a0a4",
   "metadata": {},
   "source": [
    "<div style=\"font-family: 'Segoe UI', 'Arial', sans-serif; background: linear-gradient(90deg, #00b894 0%, #0984e3 100%); border-radius: 18px; padding: 36px 28px 20px 28px; box-shadow: 0 4px 24px #b2bec3; margin-bottom: 28px; color: #fff; position: relative; overflow: hidden;\">\n",
    "  <div style=\"position: absolute; top: 18px; right: 32px; font-size: 2.5em; opacity: 0.18;\">🔬</div>\n",
    "  <h1 style=\"font-size: 2.8em; font-weight: 800; margin-bottom: 0.2em; letter-spacing: 1.5px; text-shadow: 1px 2px 8px #636e72;\">Synthesis Report: <span style=\"color: #ffeaa7;\">Material Recipe</span></h1>\n",
    "  <hr style=\"border: 1.5px solid #ffeaa7; margin: 16px 0 22px 0;\">\n",
    "  <div style=\"font-size: 1.18em; color: #dff9fb; margin-bottom: 10px;\">\n",
    "    <b>Date:</b> 12 September 2025<br>\n",
    "    <b>Prepared by:</b> <span style=\"color: #fdcb6e;\">[Your Name or Team]</span>\n",
    "  </div>\n",
    "  <div style=\"font-size: 1.22em; color: #fff; margin-top: 20px;\">\n",
    "    <span style=\"background: rgba(0,0,0,0.08); border-radius: 8px; padding: 6px 12px;\">This report details the <b>cutting-edge synthesis procedure</b> for the target material. Explore the innovative recipe, curated precursors, and advanced structure analysis below. <span style=\"color: #fdcb6e;\">#MaterialsRevolution</span></span>\n",
    "  </div>\n",
    "</div>\n"
   ]
  },
  {
   "cell_type": "code",
   "execution_count": null,
   "id": "7a5166c9",
   "metadata": {},
   "outputs": [],
   "source": []
  },
  {
   "cell_type": "markdown",
   "id": "9514d781",
   "metadata": {},
   "source": [
    "<div style=\"font-family: 'Segoe UI', 'Arial', sans-serif; margin-bottom: 28px;\">\n",
    "  <h2 style=\"color: #00b894; font-size: 1.7em; font-weight: 700; display: flex; align-items: center; gap: 10px;\">🧪 1. Precursors</h2>\n",
    "  <p style=\"font-size: 1.12em; color: #444;\">All chemicals and materials required for synthesis, with purity, supplier, and special handling notes.</p>\n",
    "  <table style=\"border-collapse: collapse; width: 100%; font-size: 1.08em; background: #f9fafc; box-shadow: 0 2px 8px #dfe6e9; border-radius: 10px; overflow: hidden;\">\n",
    "    <thead style=\"background: #dff9fb;\">\n",
    "      <tr>\n",
    "        <th style=\"border: 1px solid #00b894; padding: 10px;\">Precursor Name</th>\n",
    "        <th style=\"border: 1px solid #00b894; padding: 10px;\">Chemical Formula</th>\n",
    "        <th style=\"border: 1px solid #00b894; padding: 10px;\">Purity (%)</th>\n",
    "        <th style=\"border: 1px solid #00b894; padding: 10px;\">Supplier</th>\n",
    "        <th style=\"border: 1px solid #00b894; padding: 10px;\">Notes</th>\n",
    "      </tr>\n",
    "    </thead>\n",
    "    <tbody>\n",
    "      <tr>\n",
    "        <td style=\"border: 1px solid #b2bec3; padding: 10px;\">Example A</td>\n",
    "        <td style=\"border: 1px solid #b2bec3; padding: 10px;\">AB<sub>2</sub>C</td>\n",
    "        <td style=\"border: 1px solid #b2bec3; padding: 10px;\">99.9</td>\n",
    "        <td style=\"border: 1px solid #b2bec3; padding: 10px;\">Sigma</td>\n",
    "        <td style=\"border: 1px solid #b2bec3; padding: 10px;\">Handle in glovebox</td>\n",
    "      </tr>\n",
    "      <tr>\n",
    "        <td style=\"border: 1px solid #b2bec3; padding: 10px;\">Example B</td>\n",
    "        <td style=\"border: 1px solid #b2bec3; padding: 10px;\">XY<sub>3</sub></td>\n",
    "        <td style=\"border: 1px solid #b2bec3; padding: 10px;\">98.5</td>\n",
    "        <td style=\"border: 1px solid #b2bec3; padding: 10px;\">Alfa</td>\n",
    "        <td style=\"border: 1px solid #b2bec3; padding: 10px;\">Hygroscopic</td>\n",
    "      </tr>\n",
    "    </tbody>\n",
    "  </table>\n",
    "  <div style=\"font-size: 1em; color: #636e72; margin-top: 10px;\">*Replace the above with your actual precursors.*</div>\n",
    "</div>\n"
   ]
  },
  {
   "cell_type": "code",
   "execution_count": null,
   "id": "d709f78b",
   "metadata": {},
   "outputs": [],
   "source": []
  },
  {
   "cell_type": "markdown",
   "id": "f4b6be6b",
   "metadata": {},
   "source": [
    "<div style=\"font-family: 'Segoe UI', 'Arial', sans-serif; margin-bottom: 28px;\">\n",
    "  <h2 style=\"color: #00b894; font-size: 1.7em; font-weight: 700; display: flex; align-items: center; gap: 10px;\">⚗️ 2. Synthesis Recipe</h2>\n",
    "  <ol style=\"font-size: 1.12em; color: #222; padding-left: 20px;\">\n",
    "    <li><b>Weighing and Mixing:</b>\n",
    "      <ul>\n",
    "        <li>Accurately weigh all precursors according to stoichiometry.</li>\n",
    "        <li>Mix thoroughly using an agate mortar or ball mill.</li>\n",
    "      </ul>\n",
    "    </li>\n",
    "    <li><b>Pre-calcination:</b>\n",
    "      <ul>\n",
    "        <li>Heat the mixture at 500°C for 4 hours in air.</li>\n",
    "        <li>Allow to cool to room temperature.</li>\n",
    "      </ul>\n",
    "    </li>\n",
    "    <li><b>Pelletizing:</b>\n",
    "      <ul>\n",
    "        <li>Press the powder into pellets using a hydraulic press.</li>\n",
    "      </ul>\n",
    "    </li>\n",
    "    <li><b>Final Sintering:</b>\n",
    "      <ul>\n",
    "        <li>Sinter pellets at 1200°C for 12 hours under argon atmosphere.</li>\n",
    "        <li>Cool down to room temperature at a rate of 5°C/min.</li>\n",
    "      </ul>\n",
    "    </li>\n",
    "  </ol>\n",
    "  <div style=\"font-size: 1em; color: #636e72; margin-top: 10px;\">*Adjust steps as needed for your specific material.*</div>\n",
    "</div>\n"
   ]
  },
  {
   "cell_type": "code",
   "execution_count": null,
   "id": "bff031b1",
   "metadata": {},
   "outputs": [],
   "source": []
  },
  {
   "cell_type": "markdown",
   "id": "979c8efa",
   "metadata": {},
   "source": [
    "<div style=\"font-family: 'Segoe UI', 'Arial', sans-serif; margin-bottom: 28px;\">\n",
    "  <h2 style=\"color: #00b894; font-size: 1.7em; font-weight: 700; display: flex; align-items: center; gap: 10px;\">🧬 3. Expected Structure</h2>\n",
    "  <ul style=\"font-size: 1.12em; color: #222;\">\n",
    "    <li><b>Crystal Structure:</b> Perovskite-type (space group Pm-3m)</li>\n",
    "    <li><b>Phase Purity:</b> Single phase expected</li>\n",
    "    <li><b>Characterization:</b>\n",
    "      <ul>\n",
    "        <li>X-ray diffraction (XRD)</li>\n",
    "        <li>Scanning electron microscopy (SEM)</li>\n",
    "        <li>Energy-dispersive X-ray spectroscopy (EDX)</li>\n",
    "      </ul>\n",
    "    </li>\n",
    "  </ul>\n",
    "  <div style=\"font-size: 1em; color: #636e72; margin-top: 10px;\">*Replace with actual results or expectations for your material.*</div>\n",
    "</div>\n"
   ]
  },
  {
   "cell_type": "code",
   "execution_count": null,
   "id": "966d9b5f",
   "metadata": {},
   "outputs": [],
   "source": []
  }
 ],
 "metadata": {
  "kernelspec": {
   "display_name": "hackaton",
   "language": "python",
   "name": "python3"
  },
  "language_info": {
   "codemirror_mode": {
    "name": "ipython",
    "version": 3
   },
   "file_extension": ".py",
   "mimetype": "text/x-python",
   "name": "python",
   "nbconvert_exporter": "python",
   "pygments_lexer": "ipython3",
   "version": "3.13.7"
  }
 },
 "nbformat": 4,
 "nbformat_minor": 5
}
