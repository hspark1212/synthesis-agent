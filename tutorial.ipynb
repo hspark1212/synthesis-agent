{
 "cells": [
  {
   "cell_type": "code",
   "execution_count": 1,
   "id": "3e057872",
   "metadata": {},
   "outputs": [],
   "source": [
    "%load_ext autoreload\n",
    "%autoreload 2"
   ]
  },
  {
   "cell_type": "code",
   "execution_count": 3,
   "id": "c2818967",
   "metadata": {},
   "outputs": [],
   "source": [
    "import os\n",
    "from pymatgen.core import Composition, Structure\n",
    "from mp_api.client import MPRester\n",
    "from src.search_api import SearchAPI\n",
    "from src.embedding import InputType\n",
    "from src.agent import SynthesisAgent\n",
    "\n",
    "\n",
    "MP_API_KEY = os.getenv(\"MP_API_KEY\")"
   ]
  },
  {
   "cell_type": "markdown",
   "id": "ab38407a",
   "metadata": {},
   "source": [
    "# Search API"
   ]
  },
  {
   "cell_type": "code",
   "execution_count": 8,
   "id": "8ee56c5b",
   "metadata": {},
   "outputs": [
    {
     "name": "stdout",
     "output_type": "stream",
     "text": [
      "Loading MP dataset from /home/hyunsoo/VScodeProjects/synthesis-agent/assets/embedding/mp_dataset_composition_magpie.h5\n"
     ]
    },
    {
     "name": "stderr",
     "output_type": "stream",
     "text": [
      "/home/hyunsoo/VScodeProjects/synthesis-agent/.venv/lib/python3.11/site-packages/matminer/utils/data.py:326: UserWarning: MagpieData(impute_nan=False):\n",
      "In a future release, impute_nan will be set to True by default.\n",
      "                    This means that features that are missing or are NaNs for elements\n",
      "                    from the data source will be replaced by the average of that value\n",
      "                    over the available elements.\n",
      "                    This avoids NaNs after featurization that are often replaced by\n",
      "                    dataset-dependent averages.\n",
      "  warnings.warn(f\"{self.__class__.__name__}(impute_nan=False):\\n\" + IMPUTE_NAN_WARNING)\n"
     ]
    },
    {
     "data": {
      "text/plain": [
       "[Neighbor(neighbor_index=0, material_id='mp-25386', formula='Li(FeO2)2', distance=1.6858739404357614e-07, confidence=0.9999999438042035),\n",
       " Neighbor(neighbor_index=1, material_id='mp-752935', formula='Li(FeO2)2', distance=1.6858739404357614e-07, confidence=0.9999999438042035),\n",
       " Neighbor(neighbor_index=2, material_id='mp-1178108', formula='Li(FeO2)2', distance=1.6858739404357614e-07, confidence=0.9999999438042035),\n",
       " Neighbor(neighbor_index=3, material_id='mp-771057', formula='Li(FeO2)2', distance=1.6858739404357614e-07, confidence=0.9999999438042035),\n",
       " Neighbor(neighbor_index=4, material_id='mp-773043', formula='Li(FeO2)2', distance=1.6858739404357614e-07, confidence=0.9999999438042035),\n",
       " Neighbor(neighbor_index=5, material_id='mp-1178106', formula='Li(FeO2)2', distance=1.6858739404357614e-07, confidence=0.9999999438042035),\n",
       " Neighbor(neighbor_index=6, material_id='mp-771135', formula='Li(FeO2)2', distance=1.6858739404357614e-07, confidence=0.9999999438042035),\n",
       " Neighbor(neighbor_index=7, material_id='mp-1178122', formula='Li(FeO2)2', distance=1.6858739404357614e-07, confidence=0.9999999438042035),\n",
       " Neighbor(neighbor_index=8, material_id='mp-771571', formula='Li(FeO2)2', distance=1.6858739404357614e-07, confidence=0.9999999438042035),\n",
       " Neighbor(neighbor_index=9, material_id='mp-754803', formula='Li(FeO2)2', distance=1.6858739404357614e-07, confidence=0.9999999438042035),\n",
       " Neighbor(neighbor_index=10, material_id='mp-1178103', formula='Li(FeO2)2', distance=1.6858739404357614e-07, confidence=0.9999999438042035),\n",
       " Neighbor(neighbor_index=11, material_id='mp-771396', formula='Li4(FeO2)9', distance=0.26344608180906465, confidence=0.9159299778702668),\n",
       " Neighbor(neighbor_index=12, material_id='mp-752476', formula='Li3(FeO2)5', distance=0.4399305392926217, confidence=0.8636017852737156),\n",
       " Neighbor(neighbor_index=13, material_id='mp-762529', formula='Li2(FeO2)5', distance=0.4850470671394753, confidence=0.8507113852385557),\n",
       " Neighbor(neighbor_index=14, material_id='mp-1120820', formula='Li2Fe4O7', distance=0.49878923070830444, confidence=0.8468234251988423)]"
      ]
     },
     "execution_count": 8,
     "metadata": {},
     "output_type": "execute_result"
    }
   ],
   "source": [
    "search_api_comp = SearchAPI(input_type=InputType.COMPOSITION, max_neighbors=100)\n",
    "search_api_comp.query(Composition(\"LiFe2O4\"), n_neighbors=15)"
   ]
  },
  {
   "cell_type": "code",
   "execution_count": 9,
   "id": "c90f95b2",
   "metadata": {},
   "outputs": [
    {
     "name": "stdout",
     "output_type": "stream",
     "text": [
      "Loading MP dataset from /home/hyunsoo/VScodeProjects/synthesis-agent/assets/embedding/mp_dataset_structure_mace.h5\n"
     ]
    },
    {
     "name": "stderr",
     "output_type": "stream",
     "text": [
      "Retrieving MaterialsDoc documents: 100%|██████████| 1/1 [00:00<00:00, 3994.58it/s]\n",
      "/home/hyunsoo/VScodeProjects/synthesis-agent/.venv/lib/python3.11/site-packages/mace/calculators/mace.py:197: UserWarning: Environment variable TORCH_FORCE_NO_WEIGHTS_ONLY_LOAD detected, since the`weights_only` argument was not explicitly passed to `torch.load`, forcing weights_only=False.\n",
      "  torch.load(f=model_path, map_location=device)\n"
     ]
    },
    {
     "name": "stdout",
     "output_type": "stream",
     "text": [
      "Using medium MPA-0 model as default MACE-MP model, to use previous (before 3.10) default model please specify 'medium' as model argument\n",
      "Using Materials Project MACE for MACECalculator with /home/hyunsoo/.cache/mace/macempa0mediummodel\n",
      "Using float32 for MACECalculator, which is faster but less accurate. Recommended for MD. Use float64 for geometry optimization.\n",
      "Using head default out of ['default']\n",
      "Default dtype float32 does not match model dtype float64, converting models to float32.\n"
     ]
    },
    {
     "data": {
      "text/plain": [
       "[Neighbor(neighbor_index=0, material_id='mp-19017', formula='LiFePO4', distance=4.2799288166861515e-06, confidence=0.9999985733580787),\n",
       " Neighbor(neighbor_index=1, material_id='mp-18951', formula='LiFePO4', distance=2.201819896697998, confidence=0.48001402077158545),\n",
       " Neighbor(neighbor_index=2, material_id='mp-705312', formula='LiFePO4', distance=2.233734130859375, confidence=0.47493465937517404),\n",
       " Neighbor(neighbor_index=3, material_id='mp-831160', formula='LiFePO4', distance=2.266953706741333, confidence=0.46970462674098623),\n",
       " Neighbor(neighbor_index=4, material_id='mp-849430', formula='Li8MnFe7(PO4)8', distance=2.5171642303466797, confidence=0.43211879355914085)]"
      ]
     },
     "execution_count": 9,
     "metadata": {},
     "output_type": "execute_result"
    }
   ],
   "source": [
    "search_api_st = SearchAPI(input_type=InputType.STRUCTURE, max_neighbors=100)\n",
    "mpr = MPRester(MP_API_KEY)\n",
    "structure = mpr.get_structure_by_material_id(\"mp-19017\")  # LiFePO4\n",
    "search_api_st.query(structure, n_neighbors=5)"
   ]
  },
  {
   "cell_type": "markdown",
   "id": "f052b826",
   "metadata": {},
   "source": [
    "# Agent"
   ]
  },
  {
   "cell_type": "code",
   "execution_count": 6,
   "id": "e1544777",
   "metadata": {},
   "outputs": [
    {
     "name": "stdout",
     "output_type": "stream",
     "text": [
      "Loading MP dataset from /home/hyunsoo/VScodeProjects/synthesis-agent/assets/embedding/mp_dataset_composition_magpie.h5\n",
      "Loading MP dataset from /home/hyunsoo/VScodeProjects/synthesis-agent/assets/embedding/mp_dataset_structure_mace.h5\n"
     ]
    }
   ],
   "source": [
    "agent = SynthesisAgent()"
   ]
  },
  {
   "cell_type": "code",
   "execution_count": 7,
   "id": "502d29e9",
   "metadata": {},
   "outputs": [
    {
     "name": "stderr",
     "output_type": "stream",
     "text": [
      "/home/hyunsoo/VScodeProjects/synthesis-agent/.venv/lib/python3.11/site-packages/matminer/utils/data.py:326: UserWarning: MagpieData(impute_nan=False):\n",
      "In a future release, impute_nan will be set to True by default.\n",
      "                    This means that features that are missing or are NaNs for elements\n",
      "                    from the data source will be replaced by the average of that value\n",
      "                    over the available elements.\n",
      "                    This avoids NaNs after featurization that are often replaced by\n",
      "                    dataset-dependent averages.\n",
      "  warnings.warn(f\"{self.__class__.__name__}(impute_nan=False):\\n\" + IMPUTE_NAN_WARNING)\n"
     ]
    },
    {
     "data": {
      "text/plain": [
       "[Neighbor(neighbor_index=0, material_id='mp-759319', formula='Li3Fe5O12', distance=0.5145681494852192, confidence=0.8423811318558403),\n",
       " Neighbor(neighbor_index=1, material_id='mp-758559', formula='Li3Fe5O12', distance=0.5145681494852192, confidence=0.8423811318558403),\n",
       " Neighbor(neighbor_index=2, material_id='mp-755806', formula='Li3Fe5O12', distance=0.5145681494852192, confidence=0.8423811318558403),\n",
       " Neighbor(neighbor_index=3, material_id='mp-772179', formula='Li4Fe5Co3O16', distance=0.8141480678092642, confidence=0.7623247070908341),\n",
       " Neighbor(neighbor_index=4, material_id='mp-771396', formula='Li4(FeO2)9', distance=0.8247286466229046, confidence=0.7596408304858411),\n",
       " Neighbor(neighbor_index=5, material_id='mp-759569', formula='Li2Fe2Co3O10', distance=0.8287946298288815, confidence=0.7586119655814628)]"
      ]
     },
     "execution_count": 7,
     "metadata": {},
     "output_type": "execute_result"
    }
   ],
   "source": [
    "neighbors = agent.find_similar_materials_by_composition(\"LiFe2O5\", n_neighbors=6)\n",
    "neighbors"
   ]
  }
 ],
 "metadata": {
  "kernelspec": {
   "display_name": "synthesis-agent",
   "language": "python",
   "name": "python3"
  },
  "language_info": {
   "codemirror_mode": {
    "name": "ipython",
    "version": 3
   },
   "file_extension": ".py",
   "mimetype": "text/x-python",
   "name": "python",
   "nbconvert_exporter": "python",
   "pygments_lexer": "ipython3",
   "version": "3.11.13"
  }
 },
 "nbformat": 4,
 "nbformat_minor": 5
}
